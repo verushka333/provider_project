{
 "cells": [
  {
   "cell_type": "markdown",
   "id": "5ad49c5c",
   "metadata": {},
   "source": [
    "# MMM Providers"
   ]
  },
  {
   "cell_type": "markdown",
   "id": "de7f0d64",
   "metadata": {},
   "source": [
    "## This dataset includes all data in MMM Directory"
   ]
  },
  {
   "cell_type": "code",
   "execution_count": 1,
   "id": "00653f0b",
   "metadata": {},
   "outputs": [],
   "source": [
    "from selenium import webdriver\n",
    "from selenium.webdriver.common.by import By\n",
    "from selenium.webdriver.support.ui import Select\n",
    "from selenium.webdriver.support.ui import WebDriverWait\n",
    "from selenium.webdriver.support import expected_conditions as EC\n",
    "from selenium.common.exceptions import NoSuchElementException, TimeoutException\n",
    "import time\n",
    "from selenium.common.exceptions import StaleElementReferenceException\n",
    "import pandas as pd\n",
    "from selenium.common.exceptions import TimeoutException"
   ]
  },
  {
   "cell_type": "code",
   "execution_count": 4,
   "id": "e571685c",
   "metadata": {},
   "outputs": [],
   "source": [
    "url = \"https://provider.innovamd.com/portal/#/options?th=mmm&pl=1&co=1&lg=en\"\n",
    "browser=webdriver.Chrome()\n",
    "response = browser.get(url)"
   ]
  },
  {
   "cell_type": "markdown",
   "id": "94bed5a4",
   "metadata": {},
   "source": [
    "### Identifing Elements"
   ]
  },
  {
   "cell_type": "code",
   "execution_count": 5,
   "id": "881854ca",
   "metadata": {},
   "outputs": [],
   "source": [
    "#Code that selects the product\n",
    "product_click = browser.find_element(By.CSS_SELECTOR,'#products')\n",
    "\n",
    "products_dropdown = Select(product_click)\n",
    "products_dropdown.select_by_value('object:31')\n",
    "\n",
    "# Click the \"Buscar\" button\n",
    "browser.find_element(By.CSS_SELECTOR, '.btn.btn-primary.ng-binding').click()\n"
   ]
  },
  {
   "cell_type": "code",
   "execution_count": 6,
   "id": "6c6706e6",
   "metadata": {},
   "outputs": [],
   "source": [
    "pueblo_click = browser.find_element(By.CSS_SELECTOR, '#city')\n",
    "                                      \n",
    "pueblo_dropdown = Select(pueblo_click)\n",
    "pueblo_dropdown.select_by_value('3154')\n",
    "\n",
    "# Click the \"Buscar\" button\n",
    "browser.find_element(By.CSS_SELECTOR, '.fa.fa-search').click()"
   ]
  },
  {
   "cell_type": "code",
   "execution_count": 7,
   "id": "caa87b3b",
   "metadata": {},
   "outputs": [],
   "source": [
    "#Code to change product\n",
    "browser.find_element(By.CSS_SELECTOR, '.btn.btn-primary.ng-binding.ng-scope').click()"
   ]
  },
  {
   "cell_type": "code",
   "execution_count": 8,
   "id": "cd98348a",
   "metadata": {},
   "outputs": [],
   "source": [
    "nombre = browser.find_element(By.CSS_SELECTOR, 'h4.m0 > span')"
   ]
  },
  {
   "cell_type": "code",
   "execution_count": 9,
   "id": "f9fce03a",
   "metadata": {},
   "outputs": [
    {
     "name": "stdout",
     "output_type": "stream",
     "text": [
      "RODRIGUEZ CALES, ORLANDO\n",
      "\n",
      "\n",
      "\n",
      "\n",
      "\n",
      "\n",
      "\n",
      "\n",
      "\n"
     ]
    }
   ],
   "source": [
    "nombres = browser.find_elements(By.CSS_SELECTOR, 'h4.m0 > span')\n",
    "for nombre in nombres:\n",
    "    print(nombre.text)"
   ]
  },
  {
   "cell_type": "code",
   "execution_count": 10,
   "id": "481eba48",
   "metadata": {},
   "outputs": [],
   "source": [
    "especialidad = browser.find_elements(By.CSS_SELECTOR,'div.media-body > div:nth-child(4) > ul > li')"
   ]
  },
  {
   "cell_type": "code",
   "execution_count": 11,
   "id": "feb55e93",
   "metadata": {},
   "outputs": [
    {
     "data": {
      "text/plain": [
       "''"
      ]
     },
     "execution_count": 11,
     "metadata": {},
     "output_type": "execute_result"
    }
   ],
   "source": [
    "especialidad[1].text"
   ]
  },
  {
   "cell_type": "code",
   "execution_count": 12,
   "id": "075eb7b9",
   "metadata": {},
   "outputs": [
    {
     "name": "stdout",
     "output_type": "stream",
     "text": [
      "General Practice\n",
      "\n",
      "\n",
      "\n",
      "\n",
      "\n",
      "\n",
      "\n",
      "\n",
      "\n"
     ]
    }
   ],
   "source": [
    "especialidad = browser.find_elements(By.CSS_SELECTOR,'div.media-body > div:nth-child(4) > ul > li')\n",
    "for especialidades in especialidad:\n",
    "    print(especialidades.text)"
   ]
  },
  {
   "cell_type": "code",
   "execution_count": 13,
   "id": "4df88935",
   "metadata": {},
   "outputs": [],
   "source": [
    "localidad = browser.find_elements(By.CSS_SELECTOR,'div.media-body > div:nth-child(5) > ul')"
   ]
  },
  {
   "cell_type": "code",
   "execution_count": 14,
   "id": "216ffd50",
   "metadata": {},
   "outputs": [
    {
     "data": {
      "text/plain": [
       "'AdjuntasPonce'"
      ]
     },
     "execution_count": 14,
     "metadata": {},
     "output_type": "execute_result"
    }
   ],
   "source": [
    "localidad[0].text"
   ]
  },
  {
   "cell_type": "code",
   "execution_count": 15,
   "id": "d280cef9",
   "metadata": {},
   "outputs": [
    {
     "name": "stdout",
     "output_type": "stream",
     "text": [
      "AdjuntasPonce\n",
      "\n",
      "\n",
      "\n",
      "\n",
      "\n",
      "\n",
      "\n",
      "\n",
      "\n"
     ]
    }
   ],
   "source": [
    "localidad = browser.find_elements(By.CSS_SELECTOR, 'div.media-body > div:nth-child(5) > ul')\n",
    "for localidades in localidad:\n",
    "    print(localidades.text)"
   ]
  },
  {
   "cell_type": "markdown",
   "id": "a5c3cc6c",
   "metadata": {},
   "source": [
    "### Identifing Page Number"
   ]
  },
  {
   "cell_type": "code",
   "execution_count": 28,
   "id": "5cccca3b",
   "metadata": {},
   "outputs": [
    {
     "ename": "NoSuchWindowException",
     "evalue": "Message: no such window: target window already closed\nfrom unknown error: web view not found\n  (Session info: chrome=122.0.6261.112)\n",
     "output_type": "error",
     "traceback": [
      "\u001b[1;31m---------------------------------------------------------------------------\u001b[0m",
      "\u001b[1;31mNoSuchWindowException\u001b[0m                     Traceback (most recent call last)",
      "Cell \u001b[1;32mIn[28], line 8\u001b[0m\n\u001b[0;32m      6\u001b[0m \u001b[38;5;28;01mtry\u001b[39;00m:\n\u001b[0;32m      7\u001b[0m     wait \u001b[38;5;241m=\u001b[39m WebDriverWait(browser, \u001b[38;5;241m10\u001b[39m) \n\u001b[1;32m----> 8\u001b[0m     page_click \u001b[38;5;241m=\u001b[39m wait\u001b[38;5;241m.\u001b[39muntil(EC\u001b[38;5;241m.\u001b[39melement_to_be_clickable((By\u001b[38;5;241m.\u001b[39mCSS_SELECTOR,\u001b[38;5;124m'\u001b[39m\u001b[38;5;124mli.pagination-next.ng-scope > a\u001b[39m\u001b[38;5;124m'\u001b[39m)))\n\u001b[0;32m     10\u001b[0m     \u001b[38;5;66;03m# Check if the \"Next\" button is disabled\u001b[39;00m\n\u001b[0;32m     11\u001b[0m     \u001b[38;5;28;01mif\u001b[39;00m page_click\u001b[38;5;241m.\u001b[39mget_attribute(\u001b[38;5;124m\"\u001b[39m\u001b[38;5;124mdisabled\u001b[39m\u001b[38;5;124m\"\u001b[39m):\n",
      "File \u001b[1;32m~\\anaconda3\\Lib\\site-packages\\selenium\\webdriver\\support\\wait.py:71\u001b[0m, in \u001b[0;36mWebDriverWait.until\u001b[1;34m(self, method, message)\u001b[0m\n\u001b[0;32m     69\u001b[0m \u001b[38;5;28;01mwhile\u001b[39;00m \u001b[38;5;28;01mTrue\u001b[39;00m:\n\u001b[0;32m     70\u001b[0m     \u001b[38;5;28;01mtry\u001b[39;00m:\n\u001b[1;32m---> 71\u001b[0m         value \u001b[38;5;241m=\u001b[39m method(\u001b[38;5;28mself\u001b[39m\u001b[38;5;241m.\u001b[39m_driver)\n\u001b[0;32m     72\u001b[0m         \u001b[38;5;28;01mif\u001b[39;00m value:\n\u001b[0;32m     73\u001b[0m             \u001b[38;5;28;01mreturn\u001b[39;00m value\n",
      "File \u001b[1;32m~\\anaconda3\\Lib\\site-packages\\selenium\\webdriver\\support\\expected_conditions.py:297\u001b[0m, in \u001b[0;36melement_to_be_clickable.__call__\u001b[1;34m(self, driver)\u001b[0m\n\u001b[0;32m    296\u001b[0m \u001b[38;5;28;01mdef\u001b[39;00m \u001b[38;5;21m__call__\u001b[39m(\u001b[38;5;28mself\u001b[39m, driver):\n\u001b[1;32m--> 297\u001b[0m     element \u001b[38;5;241m=\u001b[39m visibility_of_element_located(\u001b[38;5;28mself\u001b[39m\u001b[38;5;241m.\u001b[39mlocator)(driver)\n\u001b[0;32m    298\u001b[0m     \u001b[38;5;28;01mif\u001b[39;00m element \u001b[38;5;129;01mand\u001b[39;00m element\u001b[38;5;241m.\u001b[39mis_enabled():\n\u001b[0;32m    299\u001b[0m         \u001b[38;5;28;01mreturn\u001b[39;00m element\n",
      "File \u001b[1;32m~\\anaconda3\\Lib\\site-packages\\selenium\\webdriver\\support\\expected_conditions.py:128\u001b[0m, in \u001b[0;36mvisibility_of_element_located.__call__\u001b[1;34m(self, driver)\u001b[0m\n\u001b[0;32m    126\u001b[0m \u001b[38;5;28;01mdef\u001b[39;00m \u001b[38;5;21m__call__\u001b[39m(\u001b[38;5;28mself\u001b[39m, driver):\n\u001b[0;32m    127\u001b[0m     \u001b[38;5;28;01mtry\u001b[39;00m:\n\u001b[1;32m--> 128\u001b[0m         \u001b[38;5;28;01mreturn\u001b[39;00m _element_if_visible(_find_element(driver, \u001b[38;5;28mself\u001b[39m\u001b[38;5;241m.\u001b[39mlocator))\n\u001b[0;32m    129\u001b[0m     \u001b[38;5;28;01mexcept\u001b[39;00m StaleElementReferenceException:\n\u001b[0;32m    130\u001b[0m         \u001b[38;5;28;01mreturn\u001b[39;00m \u001b[38;5;28;01mFalse\u001b[39;00m\n",
      "File \u001b[1;32m~\\anaconda3\\Lib\\site-packages\\selenium\\webdriver\\support\\expected_conditions.py:415\u001b[0m, in \u001b[0;36m_find_element\u001b[1;34m(driver, by)\u001b[0m\n\u001b[0;32m    413\u001b[0m     \u001b[38;5;28;01mraise\u001b[39;00m e\n\u001b[0;32m    414\u001b[0m \u001b[38;5;28;01mexcept\u001b[39;00m WebDriverException \u001b[38;5;28;01mas\u001b[39;00m e:\n\u001b[1;32m--> 415\u001b[0m     \u001b[38;5;28;01mraise\u001b[39;00m e\n",
      "File \u001b[1;32m~\\anaconda3\\Lib\\site-packages\\selenium\\webdriver\\support\\expected_conditions.py:411\u001b[0m, in \u001b[0;36m_find_element\u001b[1;34m(driver, by)\u001b[0m\n\u001b[0;32m    408\u001b[0m \u001b[38;5;250m\u001b[39m\u001b[38;5;124;03m\"\"\"Looks up an element. Logs and re-raises ``WebDriverException``\u001b[39;00m\n\u001b[0;32m    409\u001b[0m \u001b[38;5;124;03mif thrown.\"\"\"\u001b[39;00m\n\u001b[0;32m    410\u001b[0m \u001b[38;5;28;01mtry\u001b[39;00m:\n\u001b[1;32m--> 411\u001b[0m     \u001b[38;5;28;01mreturn\u001b[39;00m driver\u001b[38;5;241m.\u001b[39mfind_element(\u001b[38;5;241m*\u001b[39mby)\n\u001b[0;32m    412\u001b[0m \u001b[38;5;28;01mexcept\u001b[39;00m NoSuchElementException \u001b[38;5;28;01mas\u001b[39;00m e:\n\u001b[0;32m    413\u001b[0m     \u001b[38;5;28;01mraise\u001b[39;00m e\n",
      "File \u001b[1;32m~\\anaconda3\\Lib\\site-packages\\selenium\\webdriver\\remote\\webdriver.py:964\u001b[0m, in \u001b[0;36mWebDriver.find_element\u001b[1;34m(self, by, value)\u001b[0m\n\u001b[0;32m    962\u001b[0m         by \u001b[38;5;241m=\u001b[39m By\u001b[38;5;241m.\u001b[39mCSS_SELECTOR\n\u001b[0;32m    963\u001b[0m         value \u001b[38;5;241m=\u001b[39m \u001b[38;5;124m'\u001b[39m\u001b[38;5;124m[name=\u001b[39m\u001b[38;5;124m\"\u001b[39m\u001b[38;5;132;01m%s\u001b[39;00m\u001b[38;5;124m\"\u001b[39m\u001b[38;5;124m]\u001b[39m\u001b[38;5;124m'\u001b[39m \u001b[38;5;241m%\u001b[39m value\n\u001b[1;32m--> 964\u001b[0m \u001b[38;5;28;01mreturn\u001b[39;00m \u001b[38;5;28mself\u001b[39m\u001b[38;5;241m.\u001b[39mexecute(Command\u001b[38;5;241m.\u001b[39mFIND_ELEMENT, {\n\u001b[0;32m    965\u001b[0m     \u001b[38;5;124m'\u001b[39m\u001b[38;5;124musing\u001b[39m\u001b[38;5;124m'\u001b[39m: by,\n\u001b[0;32m    966\u001b[0m     \u001b[38;5;124m'\u001b[39m\u001b[38;5;124mvalue\u001b[39m\u001b[38;5;124m'\u001b[39m: value})[\u001b[38;5;124m'\u001b[39m\u001b[38;5;124mvalue\u001b[39m\u001b[38;5;124m'\u001b[39m]\n",
      "File \u001b[1;32m~\\anaconda3\\Lib\\site-packages\\selenium\\webdriver\\remote\\webdriver.py:320\u001b[0m, in \u001b[0;36mWebDriver.execute\u001b[1;34m(self, driver_command, params)\u001b[0m\n\u001b[0;32m    318\u001b[0m response \u001b[38;5;241m=\u001b[39m \u001b[38;5;28mself\u001b[39m\u001b[38;5;241m.\u001b[39mcommand_executor\u001b[38;5;241m.\u001b[39mexecute(driver_command, params)\n\u001b[0;32m    319\u001b[0m \u001b[38;5;28;01mif\u001b[39;00m response:\n\u001b[1;32m--> 320\u001b[0m     \u001b[38;5;28mself\u001b[39m\u001b[38;5;241m.\u001b[39merror_handler\u001b[38;5;241m.\u001b[39mcheck_response(response)\n\u001b[0;32m    321\u001b[0m     response[\u001b[38;5;124m'\u001b[39m\u001b[38;5;124mvalue\u001b[39m\u001b[38;5;124m'\u001b[39m] \u001b[38;5;241m=\u001b[39m \u001b[38;5;28mself\u001b[39m\u001b[38;5;241m.\u001b[39m_unwrap_value(\n\u001b[0;32m    322\u001b[0m         response\u001b[38;5;241m.\u001b[39mget(\u001b[38;5;124m'\u001b[39m\u001b[38;5;124mvalue\u001b[39m\u001b[38;5;124m'\u001b[39m, \u001b[38;5;28;01mNone\u001b[39;00m))\n\u001b[0;32m    323\u001b[0m     \u001b[38;5;28;01mreturn\u001b[39;00m response\n",
      "File \u001b[1;32m~\\anaconda3\\Lib\\site-packages\\selenium\\webdriver\\remote\\errorhandler.py:242\u001b[0m, in \u001b[0;36mErrorHandler.check_response\u001b[1;34m(self, response)\u001b[0m\n\u001b[0;32m    240\u001b[0m         alert_text \u001b[38;5;241m=\u001b[39m value[\u001b[38;5;124m'\u001b[39m\u001b[38;5;124malert\u001b[39m\u001b[38;5;124m'\u001b[39m]\u001b[38;5;241m.\u001b[39mget(\u001b[38;5;124m'\u001b[39m\u001b[38;5;124mtext\u001b[39m\u001b[38;5;124m'\u001b[39m)\n\u001b[0;32m    241\u001b[0m     \u001b[38;5;28;01mraise\u001b[39;00m exception_class(message, screen, stacktrace, alert_text)\n\u001b[1;32m--> 242\u001b[0m \u001b[38;5;28;01mraise\u001b[39;00m exception_class(message, screen, stacktrace)\n",
      "\u001b[1;31mNoSuchWindowException\u001b[0m: Message: no such window: target window already closed\nfrom unknown error: web view not found\n  (Session info: chrome=122.0.6261.112)\n"
     ]
    }
   ],
   "source": [
    "#Change Pages\n",
    "current_page = 1\n",
    "\n",
    "\n",
    "while True:\n",
    "    try:\n",
    "        wait = WebDriverWait(browser, 10) \n",
    "        page_click = wait.until(EC.element_to_be_clickable((By.CSS_SELECTOR,'li.pagination-next.ng-scope > a')))\n",
    "        \n",
    "        # Check if the \"Next\" button is disabled\n",
    "        if page_click.get_attribute(\"disabled\"):\n",
    "            print(f\"{current_page} little sheep - end of loop\")\n",
    "            break\n",
    "        \n",
    "        # Scroll to the element before clicking it\n",
    "        browser.execute_script(\"arguments[0].scrollIntoView();\", page_click)\n",
    "\n",
    "        # Use JavaScript to click the element\n",
    "        browser.execute_script(\"arguments[0].click();\", page_click)\n",
    "\n",
    "        print(f\"{current_page} little sheep\")\n",
    "        time.sleep(5)  # Wait for the page to refresh\n",
    "\n",
    "        # Initialize the current page\n",
    "        current_page += 1\n",
    "        \n",
    "    except TimeoutException:\n",
    "        break\n",
    "        "
   ]
  },
  {
   "cell_type": "markdown",
   "id": "1b049a6b",
   "metadata": {},
   "source": [
    "## Building the loops"
   ]
  },
  {
   "cell_type": "code",
   "execution_count": 18,
   "id": "e7757904",
   "metadata": {},
   "outputs": [],
   "source": [
    "product = ['object:15',\n",
    "\"object:16\",\n",
    "\"object:17\",\n",
    "\"object:18\",\n",
    "\"object:19\",\n",
    "\"object:20\",\n",
    "\"object:21\",\n",
    "\"object:22\",\n",
    "\"object:23\",\n",
    "\"object:24\",\n",
    "\"object:25\",\n",
    "\"object:26\",\n",
    "\"object:27\",\n",
    "\"object:28\",\n",
    "\"object:29\",\n",
    "\"object:30\",\n",
    "\"object:31\",\n",
    "\"object:32\",\n",
    "\"object:33\",\n",
    "\"object:34\",\n",
    "\"object:35\",\n",
    "\"object:36\",\n",
    "\"object:37\",\n",
    "\"object:38\",\n",
    "\"object:39\",\n",
    "\"object:40\",\n",
    "\"object:41\",\n",
    "]"
   ]
  },
  {
   "cell_type": "code",
   "execution_count": 19,
   "id": "9ed9c02b",
   "metadata": {},
   "outputs": [],
   "source": [
    "pueblo = [\"3154\",\n",
    "\"3155\",\n",
    "\"3156\",\n",
    "\"3157\",\n",
    "\"3158\",\n",
    "\"3159\",\n",
    "\"3160\",\n",
    "\"3161\",\n",
    "\"3162\",\n",
    "\"3163\",\n",
    "\"3164\",\n",
    "\"3165\",\n",
    "\"3166\",\n",
    "\"3167\",\n",
    "\"3168\",\n",
    "\"3169\",\n",
    "\"3170\",\n",
    "\"3171\",\n",
    "\"3172\",\n",
    "\"3173\",\n",
    "\"3174\",\n",
    "\"3175\",\n",
    "\"3176\",\n",
    "\"3177\",\n",
    "\"3178\",\n",
    "\"3179\",\n",
    "\"3180\",\n",
    "\"3181\",\n",
    "\"3182\",\n",
    "\"3183\",\n",
    "\"3184\",\n",
    "\"3185\",\n",
    "\"3186\",\n",
    "\"3187\",\n",
    "\"3188\",\n",
    "\"3189\",\n",
    "\"3190\",\n",
    "\"3191\",\n",
    "\"3192\",\n",
    "\"3193\",\n",
    "\"3194\",\n",
    "\"3195\",\n",
    "\"3196\",\n",
    "\"3197\",\n",
    "\"3198\",\n",
    "\"3199\",\n",
    "\"3200\",\n",
    "\"3201\",\n",
    "\"3202\",\n",
    "\"3203\",\n",
    "\"3204\",\n",
    "\"3205\",\n",
    "\"3206\",\n",
    "\"3207\",\n",
    "\"3208\",\n",
    "\"3209\",\n",
    "\"3210\",\n",
    "\"3211\",\n",
    "\"3212\",\n",
    "\"3213\",\n",
    "\"3214\",\n",
    "\"3215\",\n",
    "\"3216\",\n",
    "\"3217\",\n",
    "\"3218\",\n",
    "\"3219\",\n",
    "\"3220\",\n",
    "\"3221\",\n",
    "\"3222\",\n",
    "\"3223\",\n",
    "\"3224\",\n",
    "\"3225\",\n",
    "\"3226\",\n",
    "\"3227\",\n",
    "\"3228\",\n",
    "\"3229\",\n",
    "\"3230\",\n",
    "\"3231\"\n",
    "]"
   ]
  },
  {
   "cell_type": "markdown",
   "id": "866d4d11",
   "metadata": {},
   "source": [
    "## ASES"
   ]
  },
  {
   "cell_type": "code",
   "execution_count": 40,
   "id": "49c005dc",
   "metadata": {},
   "outputs": [],
   "source": [
    "#This code is working and will be the first step to automate the process\n",
    "\n",
    "url = \"https://provider.innovamd.com/portal/#/search\"\n",
    "browser=webdriver.Chrome()\n",
    "response = browser.get(url)\n",
    "\n",
    "#Choose Goverment health plan (ASES). \n",
    "\n",
    "wait = WebDriverWait(browser, 10)\n",
    "plan_click = wait.until(EC.presence_of_element_located((By.CSS_SELECTOR, '#plans')))\n",
    "                                      \n",
    "plan_dropdown = Select(plan_click)\n",
    "plan_dropdown.select_by_value('object:19')\n",
    "\n",
    "# Click the \"Enter\" button\n",
    "browser.find_element(By.CSS_SELECTOR, '.btn.btn-primary.ng-binding').click()\n"
   ]
  },
  {
   "cell_type": "code",
   "execution_count": 41,
   "id": "f3dbede0",
   "metadata": {},
   "outputs": [],
   "source": [
    "#for p in product:\n",
    "#   wait.until(EC.element_to_be_clickable((By.CSS_SELECTOR, '.form-control.ng-pristine.ng-valid.ng-not-empty.ng-touched')))\n",
    "    \n",
    "#    product_click = browser.find_element(By.CSS_SELECTOR, '.form-control.ng-pristine.ng-valid.ng-not-empty.ng-touched')\n",
    "    \n",
    "    #wait.until(EC.element_to_be_clickable((By.CSS_SELECTOR, '#products')))\n",
    "    \n",
    "    #product_click = browser.find_element(By.CSS_SELECTOR, '#products')\n",
    "#    products_dropdown = Select(product_click)\n",
    "#    products_dropdown.select_by_value(p)\n",
    "    \n",
    "#    try:\n",
    "#        products_dropdown.select_by_value(p)\n",
    "#    except StaleElementReferenceException:\n",
    "#        continue\n",
    "    \n",
    "    # Click the \"Buscar\" button\n",
    "    #browser.find_element(By.CSS_SELECTOR, '.btn.btn-primary.ng-binding').click()\n",
    "#    browser.find_element(By.CSS_SELECTOR, '.btn.btn-primary.mr-lg.ng-binding').click()"
   ]
  },
  {
   "cell_type": "code",
   "execution_count": null,
   "id": "8f21fcab",
   "metadata": {},
   "outputs": [],
   "source": []
  },
  {
   "cell_type": "code",
   "execution_count": 42,
   "id": "b5bf6148",
   "metadata": {},
   "outputs": [
    {
     "name": "stdout",
     "output_type": "stream",
     "text": [
      "3154\n",
      "Reached the last page.\n",
      "3155\n",
      "Reached the last page.\n",
      "3156\n",
      "Reached the last page.\n",
      "3157\n",
      "Reached the last page.\n",
      "3158\n",
      "Reached the last page.\n",
      "3159\n",
      "Reached the last page.\n",
      "3160\n",
      "Reached the last page.\n",
      "3161\n",
      "Reached the last page.\n",
      "3162\n",
      "Reached the last page.\n",
      "3163\n",
      "Reached the last page.\n",
      "3164\n",
      "Reached the last page.\n",
      "3165\n",
      "Reached the last page.\n",
      "3166\n",
      "Reached the last page.\n",
      "3167\n",
      "Reached the last page.\n",
      "3168\n",
      "Reached the last page.\n",
      "3169\n",
      "Reached the last page.\n",
      "3170\n"
     ]
    },
    {
     "ename": "NoSuchWindowException",
     "evalue": "Message: no such window: target window already closed\nfrom unknown error: web view not found\n  (Session info: chrome=122.0.6261.112)\n",
     "output_type": "error",
     "traceback": [
      "\u001b[1;31m---------------------------------------------------------------------------\u001b[0m",
      "\u001b[1;31mNoSuchWindowException\u001b[0m                     Traceback (most recent call last)",
      "Cell \u001b[1;32mIn[42], line 23\u001b[0m\n\u001b[0;32m     21\u001b[0m \u001b[38;5;28;01mtry\u001b[39;00m:\n\u001b[0;32m     22\u001b[0m     wait \u001b[38;5;241m=\u001b[39m WebDriverWait(browser, \u001b[38;5;241m10\u001b[39m) \n\u001b[1;32m---> 23\u001b[0m     page_click \u001b[38;5;241m=\u001b[39m wait\u001b[38;5;241m.\u001b[39muntil(EC\u001b[38;5;241m.\u001b[39melement_to_be_clickable((By\u001b[38;5;241m.\u001b[39mCSS_SELECTOR,\u001b[38;5;124m'\u001b[39m\u001b[38;5;124mli.pagination-next.ng-scope > a\u001b[39m\u001b[38;5;124m'\u001b[39m)))\n\u001b[0;32m     25\u001b[0m     \u001b[38;5;66;03m# Scroll to the element before clicking it\u001b[39;00m\n\u001b[0;32m     26\u001b[0m     browser\u001b[38;5;241m.\u001b[39mexecute_script(\u001b[38;5;124m\"\u001b[39m\u001b[38;5;124marguments[0].scrollIntoView();\u001b[39m\u001b[38;5;124m\"\u001b[39m, page_click)\n",
      "File \u001b[1;32m~\\anaconda3\\Lib\\site-packages\\selenium\\webdriver\\support\\wait.py:71\u001b[0m, in \u001b[0;36mWebDriverWait.until\u001b[1;34m(self, method, message)\u001b[0m\n\u001b[0;32m     69\u001b[0m \u001b[38;5;28;01mwhile\u001b[39;00m \u001b[38;5;28;01mTrue\u001b[39;00m:\n\u001b[0;32m     70\u001b[0m     \u001b[38;5;28;01mtry\u001b[39;00m:\n\u001b[1;32m---> 71\u001b[0m         value \u001b[38;5;241m=\u001b[39m method(\u001b[38;5;28mself\u001b[39m\u001b[38;5;241m.\u001b[39m_driver)\n\u001b[0;32m     72\u001b[0m         \u001b[38;5;28;01mif\u001b[39;00m value:\n\u001b[0;32m     73\u001b[0m             \u001b[38;5;28;01mreturn\u001b[39;00m value\n",
      "File \u001b[1;32m~\\anaconda3\\Lib\\site-packages\\selenium\\webdriver\\support\\expected_conditions.py:297\u001b[0m, in \u001b[0;36melement_to_be_clickable.__call__\u001b[1;34m(self, driver)\u001b[0m\n\u001b[0;32m    296\u001b[0m \u001b[38;5;28;01mdef\u001b[39;00m \u001b[38;5;21m__call__\u001b[39m(\u001b[38;5;28mself\u001b[39m, driver):\n\u001b[1;32m--> 297\u001b[0m     element \u001b[38;5;241m=\u001b[39m visibility_of_element_located(\u001b[38;5;28mself\u001b[39m\u001b[38;5;241m.\u001b[39mlocator)(driver)\n\u001b[0;32m    298\u001b[0m     \u001b[38;5;28;01mif\u001b[39;00m element \u001b[38;5;129;01mand\u001b[39;00m element\u001b[38;5;241m.\u001b[39mis_enabled():\n\u001b[0;32m    299\u001b[0m         \u001b[38;5;28;01mreturn\u001b[39;00m element\n",
      "File \u001b[1;32m~\\anaconda3\\Lib\\site-packages\\selenium\\webdriver\\support\\expected_conditions.py:128\u001b[0m, in \u001b[0;36mvisibility_of_element_located.__call__\u001b[1;34m(self, driver)\u001b[0m\n\u001b[0;32m    126\u001b[0m \u001b[38;5;28;01mdef\u001b[39;00m \u001b[38;5;21m__call__\u001b[39m(\u001b[38;5;28mself\u001b[39m, driver):\n\u001b[0;32m    127\u001b[0m     \u001b[38;5;28;01mtry\u001b[39;00m:\n\u001b[1;32m--> 128\u001b[0m         \u001b[38;5;28;01mreturn\u001b[39;00m _element_if_visible(_find_element(driver, \u001b[38;5;28mself\u001b[39m\u001b[38;5;241m.\u001b[39mlocator))\n\u001b[0;32m    129\u001b[0m     \u001b[38;5;28;01mexcept\u001b[39;00m StaleElementReferenceException:\n\u001b[0;32m    130\u001b[0m         \u001b[38;5;28;01mreturn\u001b[39;00m \u001b[38;5;28;01mFalse\u001b[39;00m\n",
      "File \u001b[1;32m~\\anaconda3\\Lib\\site-packages\\selenium\\webdriver\\support\\expected_conditions.py:415\u001b[0m, in \u001b[0;36m_find_element\u001b[1;34m(driver, by)\u001b[0m\n\u001b[0;32m    413\u001b[0m     \u001b[38;5;28;01mraise\u001b[39;00m e\n\u001b[0;32m    414\u001b[0m \u001b[38;5;28;01mexcept\u001b[39;00m WebDriverException \u001b[38;5;28;01mas\u001b[39;00m e:\n\u001b[1;32m--> 415\u001b[0m     \u001b[38;5;28;01mraise\u001b[39;00m e\n",
      "File \u001b[1;32m~\\anaconda3\\Lib\\site-packages\\selenium\\webdriver\\support\\expected_conditions.py:411\u001b[0m, in \u001b[0;36m_find_element\u001b[1;34m(driver, by)\u001b[0m\n\u001b[0;32m    408\u001b[0m \u001b[38;5;250m\u001b[39m\u001b[38;5;124;03m\"\"\"Looks up an element. Logs and re-raises ``WebDriverException``\u001b[39;00m\n\u001b[0;32m    409\u001b[0m \u001b[38;5;124;03mif thrown.\"\"\"\u001b[39;00m\n\u001b[0;32m    410\u001b[0m \u001b[38;5;28;01mtry\u001b[39;00m:\n\u001b[1;32m--> 411\u001b[0m     \u001b[38;5;28;01mreturn\u001b[39;00m driver\u001b[38;5;241m.\u001b[39mfind_element(\u001b[38;5;241m*\u001b[39mby)\n\u001b[0;32m    412\u001b[0m \u001b[38;5;28;01mexcept\u001b[39;00m NoSuchElementException \u001b[38;5;28;01mas\u001b[39;00m e:\n\u001b[0;32m    413\u001b[0m     \u001b[38;5;28;01mraise\u001b[39;00m e\n",
      "File \u001b[1;32m~\\anaconda3\\Lib\\site-packages\\selenium\\webdriver\\remote\\webdriver.py:964\u001b[0m, in \u001b[0;36mWebDriver.find_element\u001b[1;34m(self, by, value)\u001b[0m\n\u001b[0;32m    962\u001b[0m         by \u001b[38;5;241m=\u001b[39m By\u001b[38;5;241m.\u001b[39mCSS_SELECTOR\n\u001b[0;32m    963\u001b[0m         value \u001b[38;5;241m=\u001b[39m \u001b[38;5;124m'\u001b[39m\u001b[38;5;124m[name=\u001b[39m\u001b[38;5;124m\"\u001b[39m\u001b[38;5;132;01m%s\u001b[39;00m\u001b[38;5;124m\"\u001b[39m\u001b[38;5;124m]\u001b[39m\u001b[38;5;124m'\u001b[39m \u001b[38;5;241m%\u001b[39m value\n\u001b[1;32m--> 964\u001b[0m \u001b[38;5;28;01mreturn\u001b[39;00m \u001b[38;5;28mself\u001b[39m\u001b[38;5;241m.\u001b[39mexecute(Command\u001b[38;5;241m.\u001b[39mFIND_ELEMENT, {\n\u001b[0;32m    965\u001b[0m     \u001b[38;5;124m'\u001b[39m\u001b[38;5;124musing\u001b[39m\u001b[38;5;124m'\u001b[39m: by,\n\u001b[0;32m    966\u001b[0m     \u001b[38;5;124m'\u001b[39m\u001b[38;5;124mvalue\u001b[39m\u001b[38;5;124m'\u001b[39m: value})[\u001b[38;5;124m'\u001b[39m\u001b[38;5;124mvalue\u001b[39m\u001b[38;5;124m'\u001b[39m]\n",
      "File \u001b[1;32m~\\anaconda3\\Lib\\site-packages\\selenium\\webdriver\\remote\\webdriver.py:320\u001b[0m, in \u001b[0;36mWebDriver.execute\u001b[1;34m(self, driver_command, params)\u001b[0m\n\u001b[0;32m    318\u001b[0m response \u001b[38;5;241m=\u001b[39m \u001b[38;5;28mself\u001b[39m\u001b[38;5;241m.\u001b[39mcommand_executor\u001b[38;5;241m.\u001b[39mexecute(driver_command, params)\n\u001b[0;32m    319\u001b[0m \u001b[38;5;28;01mif\u001b[39;00m response:\n\u001b[1;32m--> 320\u001b[0m     \u001b[38;5;28mself\u001b[39m\u001b[38;5;241m.\u001b[39merror_handler\u001b[38;5;241m.\u001b[39mcheck_response(response)\n\u001b[0;32m    321\u001b[0m     response[\u001b[38;5;124m'\u001b[39m\u001b[38;5;124mvalue\u001b[39m\u001b[38;5;124m'\u001b[39m] \u001b[38;5;241m=\u001b[39m \u001b[38;5;28mself\u001b[39m\u001b[38;5;241m.\u001b[39m_unwrap_value(\n\u001b[0;32m    322\u001b[0m         response\u001b[38;5;241m.\u001b[39mget(\u001b[38;5;124m'\u001b[39m\u001b[38;5;124mvalue\u001b[39m\u001b[38;5;124m'\u001b[39m, \u001b[38;5;28;01mNone\u001b[39;00m))\n\u001b[0;32m    323\u001b[0m     \u001b[38;5;28;01mreturn\u001b[39;00m response\n",
      "File \u001b[1;32m~\\anaconda3\\Lib\\site-packages\\selenium\\webdriver\\remote\\errorhandler.py:242\u001b[0m, in \u001b[0;36mErrorHandler.check_response\u001b[1;34m(self, response)\u001b[0m\n\u001b[0;32m    240\u001b[0m         alert_text \u001b[38;5;241m=\u001b[39m value[\u001b[38;5;124m'\u001b[39m\u001b[38;5;124malert\u001b[39m\u001b[38;5;124m'\u001b[39m]\u001b[38;5;241m.\u001b[39mget(\u001b[38;5;124m'\u001b[39m\u001b[38;5;124mtext\u001b[39m\u001b[38;5;124m'\u001b[39m)\n\u001b[0;32m    241\u001b[0m     \u001b[38;5;28;01mraise\u001b[39;00m exception_class(message, screen, stacktrace, alert_text)\n\u001b[1;32m--> 242\u001b[0m \u001b[38;5;28;01mraise\u001b[39;00m exception_class(message, screen, stacktrace)\n",
      "\u001b[1;31mNoSuchWindowException\u001b[0m: Message: no such window: target window already closed\nfrom unknown error: web view not found\n  (Session info: chrome=122.0.6261.112)\n"
     ]
    }
   ],
   "source": [
    "# Initialize an empty DataFrame\n",
    "MMMVital = pd.DataFrame()\n",
    "wait = WebDriverWait(browser, 10)\n",
    "current_page = 1\n",
    "                                                     \n",
    "\n",
    "for c in pueblo:\n",
    "    wait.until(EC.element_to_be_clickable((By.CSS_SELECTOR, '#city')))\n",
    "        \n",
    "    pueblo_click = browser.find_element(By.CSS_SELECTOR, '#city')\n",
    "    city_dropdown = Select(pueblo_click)\n",
    "    \n",
    "    print(f\"{c}\")\n",
    "    \n",
    "    #Click the \"Buscar\" button\n",
    "    wait = WebDriverWait(browser, 10)\n",
    "    search_button = browser.find_element(By.CSS_SELECTOR, '.fa.fa-search')\n",
    "    browser.execute_script(\"arguments[0].click();\", search_button)\n",
    "    \n",
    "    while True:\n",
    "        try:\n",
    "            wait = WebDriverWait(browser, 10) \n",
    "            page_click = wait.until(EC.element_to_be_clickable((By.CSS_SELECTOR,'li.pagination-next.ng-scope > a')))\n",
    "            \n",
    "            # Scroll to the element before clicking it\n",
    "            browser.execute_script(\"arguments[0].scrollIntoView();\", page_click)\n",
    "\n",
    "            # Use JavaScript to click the element\n",
    "            browser.execute_script(\"arguments[0].click();\", page_click)\n",
    "            \n",
    "            # Check if the \"Next\" button is disabled\n",
    "            if page_click.get_attribute(\"disabled\"):\n",
    "                print(f\"{current_page} little sheep - end of loop\")\n",
    "                break\n",
    "            \n",
    "            time.sleep(5)\n",
    "            \n",
    "            apellidos = browser.find_elements(By.CSS_SELECTOR, 'h4.m0 > span')\n",
    "            pueblos = browser.find_elements(By.CSS_SELECTOR, 'div.media-body > div:nth-child(5) > ul')\n",
    "            especialidad = browser.find_elements(By.CSS_SELECTOR,'div.media-body > div:nth-child(4) > ul > li')\n",
    "\n",
    "            # Update the TripeS DataFrame\n",
    "            for j in range(len(apellidos)):\n",
    "                data = pd.DataFrame({\n",
    "                    'apellidos': [apellidos[j].text],\n",
    "                    'pueblo': [pueblos[j].text],\n",
    "                    'especialidad':[especialidad[j].text],                   \n",
    "                    })\n",
    "                \n",
    "                \n",
    "                MMMVital = pd.concat([MMMVital, data], ignore_index=True)\n",
    "    \n",
    "            current_page += 1\n",
    "            \n",
    "        except NoSuchElementException:\n",
    "            print(\"No additional pages found. Continuing...\")\n",
    "            break\n",
    "\n",
    "        except StaleElementReferenceException:\n",
    "            continue\n",
    "\n",
    "        except TimeoutException:\n",
    "            print(\"Reached the last page.\")\n",
    "            break  # Break the loop if the 'Next' button is not found (i.e., we're on the last page)"
   ]
  },
  {
   "cell_type": "code",
   "execution_count": null,
   "id": "046603f7",
   "metadata": {},
   "outputs": [],
   "source": [
    "MMMVital"
   ]
  },
  {
   "cell_type": "code",
   "execution_count": null,
   "id": "5eda9aaa",
   "metadata": {},
   "outputs": [],
   "source": [
    "for p in product:\n",
    "    browser.refresh()\n",
    "    wait.until(EC.element_to_be_clickable((By.CSS_SELECTOR, '#products')))\n",
    "    \n",
    "    product_click = browser.find_element(By.CSS_SELECTOR, '#products')\n",
    "    products_dropdown = Select(product_click)\n",
    "    products_dropdown.select_by_value(p)\n",
    "    \n",
    "    # Click the \"Buscar\" button\n",
    "    browser.find_element(By.CSS_SELECTOR, '.btn.btn-primary.ng-binding').click()"
   ]
  }
 ],
 "metadata": {
  "kernelspec": {
   "display_name": "Python 3 (ipykernel)",
   "language": "python",
   "name": "python3"
  },
  "language_info": {
   "codemirror_mode": {
    "name": "ipython",
    "version": 3
   },
   "file_extension": ".py",
   "mimetype": "text/x-python",
   "name": "python",
   "nbconvert_exporter": "python",
   "pygments_lexer": "ipython3",
   "version": "3.11.5"
  }
 },
 "nbformat": 4,
 "nbformat_minor": 5
}
